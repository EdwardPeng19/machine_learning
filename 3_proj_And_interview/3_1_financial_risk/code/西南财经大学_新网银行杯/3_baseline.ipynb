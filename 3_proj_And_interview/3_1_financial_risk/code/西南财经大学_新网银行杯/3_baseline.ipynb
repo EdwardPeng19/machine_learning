{
 "cells": [
  {
   "cell_type": "code",
   "execution_count": 450,
   "metadata": {
    "ExecuteTime": {
     "end_time": "2018-09-29T01:37:31.263848Z",
     "start_time": "2018-09-29T01:37:31.253966Z"
    },
    "collapsed": true
   },
   "outputs": [],
   "source": [
    "import numpy as np\n",
    "import pandas as pd\n",
    "from sklearn.preprocessing import Imputer\n",
    "from sklearn.ensemble import GradientBoostingClassifier\n",
    "from sklearn.model_selection import KFold\n",
    "from sklearn.preprocessing import PolynomialFeatures\n",
    "import lightgbm as lgb\n",
    "from lightgbm import LGBMClassifier\n",
    "import scipy.stats as stats\n",
    "from sklearn.feature_extraction import text\n",
    "from sklearn.ensemble import IsolationForest\n",
    "from sklearn.preprocessing import MinMaxScaler\n",
    "from sklearn.cluster import KMeans\n",
    "from sklearn.linear_model import LogisticRegression\n",
    "from sklearn.model_selection import KFold\n",
    "\n",
    "from tqdm import tqdm, tqdm_notebook\n",
    "from concurrent.futures import ThreadPoolExecutor\n",
    "import matplotlib.pyplot as plt\n",
    "%matplotlib inline"
   ]
  },
  {
   "cell_type": "markdown",
   "metadata": {},
   "source": [
    "# 1. 对原始数据进行孤立森林操作（新增一列）"
   ]
  },
  {
   "cell_type": "code",
   "execution_count": 266,
   "metadata": {
    "ExecuteTime": {
     "end_time": "2018-09-28T03:48:24.535570Z",
     "start_time": "2018-09-28T03:48:23.834728Z"
    },
    "collapsed": true
   },
   "outputs": [],
   "source": [
    "train1 = pd.read_csv('data/train_xy.csv')\n",
    "train2 = pd.read_csv('data/train_x.csv')\n",
    "test = pd.read_csv('data/test_all.csv')\n",
    "# 把train和test先拼接起来\n",
    "train2['y'] = -1\n",
    "test['y'] = -2\n",
    "org_data = pd.concat([train1, train2, test],axis=0,sort=False)\n",
    "del train1, train2, test"
   ]
  },
  {
   "cell_type": "code",
   "execution_count": 272,
   "metadata": {
    "ExecuteTime": {
     "end_time": "2018-09-28T03:51:01.426776Z",
     "start_time": "2018-09-28T03:51:01.399083Z"
    },
    "collapsed": true
   },
   "outputs": [],
   "source": [
    "d_ = {'group_1':1,'group_2':2,'group_3':3}\n",
    "org_data['cust_group'] = org_data['cust_group'].apply(lambda x : d_.get(x))"
   ]
  },
  {
   "cell_type": "code",
   "execution_count": 270,
   "metadata": {
    "ExecuteTime": {
     "end_time": "2018-09-28T03:49:31.705578Z",
     "start_time": "2018-09-28T03:49:31.703032Z"
    },
    "collapsed": true
   },
   "outputs": [],
   "source": [
    "isof = IsolationForest(n_jobs=40)\n",
    "isof.fit(org_data.drop(['cust_id','y'],axis=1))\n",
    "org_data['isof'] = isof.predict(org_data.drop(['cust_id','y'],axis=1))"
   ]
  },
  {
   "cell_type": "markdown",
   "metadata": {},
   "source": [
    "# 2. 对原始数据进行KMeans操作（新增一列）"
   ]
  },
  {
   "cell_type": "code",
   "execution_count": null,
   "metadata": {
    "collapsed": true
   },
   "outputs": [],
   "source": [
    "km = KMeans(n_clusters=10)\n",
    "tmp = km.fit_transform(org_data.drop(['cust_id','y'],axis=1))\n",
    "org_data['km_feature'] = tmp.argmax(axis=1)\n",
    "del tmp"
   ]
  },
  {
   "cell_type": "markdown",
   "metadata": {},
   "source": [
    "# 2. 加载1_baseline中生成的data1"
   ]
  },
  {
   "cell_type": "code",
   "execution_count": 286,
   "metadata": {
    "ExecuteTime": {
     "end_time": "2018-09-28T03:58:44.251994Z",
     "start_time": "2018-09-28T03:58:44.201255Z"
    },
    "collapsed": true
   },
   "outputs": [],
   "source": [
    "data1 = pd.read_hdf('data/data1.h5',key='data')\n",
    "data1['isof'] = org_data['isof']\n",
    "data1['km_feature'] = org_data['km_feature']"
   ]
  },
  {
   "cell_type": "markdown",
   "metadata": {},
   "source": [
    "# 3. 对top40数值特征进行poly衍生"
   ]
  },
  {
   "cell_type": "code",
   "execution_count": null,
   "metadata": {
    "collapsed": true
   },
   "outputs": [],
   "source": [
    "# top40特征用lgb跑一些model然后拿到重要的前几个features"
   ]
  },
  {
   "cell_type": "code",
   "execution_count": 103,
   "metadata": {
    "ExecuteTime": {
     "end_time": "2018-09-27T13:07:38.867643Z",
     "start_time": "2018-09-27T13:07:38.864547Z"
    },
    "collapsed": true
   },
   "outputs": [],
   "source": [
    "rf = RowFeature()"
   ]
  },
  {
   "cell_type": "code",
   "execution_count": 247,
   "metadata": {
    "ExecuteTime": {
     "end_time": "2018-09-28T01:26:58.166155Z",
     "start_time": "2018-09-28T01:26:58.151536Z"
    },
    "collapsed": true
   },
   "outputs": [],
   "source": [
    "tmp1 = data1[f_40_num].copy()"
   ]
  },
  {
   "cell_type": "code",
   "execution_count": 288,
   "metadata": {
    "ExecuteTime": {
     "end_time": "2018-09-28T04:57:28.504123Z",
     "start_time": "2018-09-28T04:57:28.473521Z"
    }
   },
   "outputs": [
    {
     "data": {
      "text/html": [
       "<div>\n",
       "<style scoped>\n",
       "    .dataframe tbody tr th:only-of-type {\n",
       "        vertical-align: middle;\n",
       "    }\n",
       "\n",
       "    .dataframe tbody tr th {\n",
       "        vertical-align: top;\n",
       "    }\n",
       "\n",
       "    .dataframe thead th {\n",
       "        text-align: right;\n",
       "    }\n",
       "</style>\n",
       "<table border=\"1\" class=\"dataframe\">\n",
       "  <thead>\n",
       "    <tr style=\"text-align: right;\">\n",
       "      <th></th>\n",
       "      <th>x_1</th>\n",
       "      <th>x_2</th>\n",
       "      <th>x_40</th>\n",
       "      <th>x_41</th>\n",
       "      <th>x_42</th>\n",
       "      <th>x_43</th>\n",
       "      <th>x_44</th>\n",
       "      <th>x_45</th>\n",
       "      <th>x_46</th>\n",
       "      <th>x_47</th>\n",
       "      <th>...</th>\n",
       "      <th>x_81</th>\n",
       "      <th>x_93</th>\n",
       "      <th>x_95</th>\n",
       "      <th>f47_78</th>\n",
       "      <th>f39_46</th>\n",
       "      <th>f82_89</th>\n",
       "      <th>f38_1520_2530</th>\n",
       "      <th>f914_2124_3138</th>\n",
       "      <th>cate_na_count</th>\n",
       "      <th>num_na_count</th>\n",
       "    </tr>\n",
       "  </thead>\n",
       "  <tbody>\n",
       "    <tr>\n",
       "      <th>0</th>\n",
       "      <td>0.354167</td>\n",
       "      <td>0.604988</td>\n",
       "      <td>9.0</td>\n",
       "      <td>10.0</td>\n",
       "      <td>7.0</td>\n",
       "      <td>9.0</td>\n",
       "      <td>7.0</td>\n",
       "      <td>6.0</td>\n",
       "      <td>2.0</td>\n",
       "      <td>8.0</td>\n",
       "      <td>...</td>\n",
       "      <td>0.969147</td>\n",
       "      <td>0.208333</td>\n",
       "      <td>0.436170</td>\n",
       "      <td>113.0</td>\n",
       "      <td>56.0</td>\n",
       "      <td>8.0</td>\n",
       "      <td>13.007526</td>\n",
       "      <td>12.991645</td>\n",
       "      <td>38.0</td>\n",
       "      <td>38.0</td>\n",
       "    </tr>\n",
       "    <tr>\n",
       "      <th>1</th>\n",
       "      <td>0.125000</td>\n",
       "      <td>0.012058</td>\n",
       "      <td>8.0</td>\n",
       "      <td>7.0</td>\n",
       "      <td>7.0</td>\n",
       "      <td>3.0</td>\n",
       "      <td>10.0</td>\n",
       "      <td>6.0</td>\n",
       "      <td>3.0</td>\n",
       "      <td>7.0</td>\n",
       "      <td>...</td>\n",
       "      <td>0.905626</td>\n",
       "      <td>0.270833</td>\n",
       "      <td>0.297872</td>\n",
       "      <td>158.0</td>\n",
       "      <td>51.0</td>\n",
       "      <td>10.0</td>\n",
       "      <td>13.007526</td>\n",
       "      <td>12.991645</td>\n",
       "      <td>37.0</td>\n",
       "      <td>38.0</td>\n",
       "    </tr>\n",
       "    <tr>\n",
       "      <th>2</th>\n",
       "      <td>0.333333</td>\n",
       "      <td>0.565979</td>\n",
       "      <td>1.0</td>\n",
       "      <td>3.0</td>\n",
       "      <td>6.0</td>\n",
       "      <td>5.0</td>\n",
       "      <td>7.0</td>\n",
       "      <td>3.0</td>\n",
       "      <td>2.0</td>\n",
       "      <td>8.0</td>\n",
       "      <td>...</td>\n",
       "      <td>0.867514</td>\n",
       "      <td>0.185821</td>\n",
       "      <td>0.372340</td>\n",
       "      <td>87.0</td>\n",
       "      <td>29.0</td>\n",
       "      <td>19.0</td>\n",
       "      <td>8.000000</td>\n",
       "      <td>8.000000</td>\n",
       "      <td>37.0</td>\n",
       "      <td>3.0</td>\n",
       "    </tr>\n",
       "    <tr>\n",
       "      <th>3</th>\n",
       "      <td>0.208333</td>\n",
       "      <td>0.316209</td>\n",
       "      <td>2.0</td>\n",
       "      <td>3.0</td>\n",
       "      <td>7.0</td>\n",
       "      <td>9.0</td>\n",
       "      <td>7.0</td>\n",
       "      <td>9.0</td>\n",
       "      <td>2.0</td>\n",
       "      <td>7.0</td>\n",
       "      <td>...</td>\n",
       "      <td>0.907441</td>\n",
       "      <td>0.010417</td>\n",
       "      <td>0.053191</td>\n",
       "      <td>97.0</td>\n",
       "      <td>41.0</td>\n",
       "      <td>47.0</td>\n",
       "      <td>6.000000</td>\n",
       "      <td>20.000000</td>\n",
       "      <td>37.0</td>\n",
       "      <td>2.0</td>\n",
       "    </tr>\n",
       "    <tr>\n",
       "      <th>4</th>\n",
       "      <td>0.208333</td>\n",
       "      <td>0.008061</td>\n",
       "      <td>9.0</td>\n",
       "      <td>11.0</td>\n",
       "      <td>10.0</td>\n",
       "      <td>9.0</td>\n",
       "      <td>10.0</td>\n",
       "      <td>7.0</td>\n",
       "      <td>3.0</td>\n",
       "      <td>11.0</td>\n",
       "      <td>...</td>\n",
       "      <td>0.865699</td>\n",
       "      <td>0.052083</td>\n",
       "      <td>0.095745</td>\n",
       "      <td>131.0</td>\n",
       "      <td>61.0</td>\n",
       "      <td>8.0</td>\n",
       "      <td>13.007526</td>\n",
       "      <td>6.000000</td>\n",
       "      <td>37.0</td>\n",
       "      <td>20.0</td>\n",
       "    </tr>\n",
       "  </tbody>\n",
       "</table>\n",
       "<p>5 rows × 40 columns</p>\n",
       "</div>"
      ],
      "text/plain": [
       "        x_1       x_2  x_40  x_41  x_42  x_43  x_44  x_45  x_46  x_47  \\\n",
       "0  0.354167  0.604988   9.0  10.0   7.0   9.0   7.0   6.0   2.0   8.0   \n",
       "1  0.125000  0.012058   8.0   7.0   7.0   3.0  10.0   6.0   3.0   7.0   \n",
       "2  0.333333  0.565979   1.0   3.0   6.0   5.0   7.0   3.0   2.0   8.0   \n",
       "3  0.208333  0.316209   2.0   3.0   7.0   9.0   7.0   9.0   2.0   7.0   \n",
       "4  0.208333  0.008061   9.0  11.0  10.0   9.0  10.0   7.0   3.0  11.0   \n",
       "\n",
       "       ...           x_81      x_93      x_95  f47_78  f39_46  f82_89  \\\n",
       "0      ...       0.969147  0.208333  0.436170   113.0    56.0     8.0   \n",
       "1      ...       0.905626  0.270833  0.297872   158.0    51.0    10.0   \n",
       "2      ...       0.867514  0.185821  0.372340    87.0    29.0    19.0   \n",
       "3      ...       0.907441  0.010417  0.053191    97.0    41.0    47.0   \n",
       "4      ...       0.865699  0.052083  0.095745   131.0    61.0     8.0   \n",
       "\n",
       "   f38_1520_2530  f914_2124_3138  cate_na_count  num_na_count  \n",
       "0      13.007526       12.991645           38.0          38.0  \n",
       "1      13.007526       12.991645           37.0          38.0  \n",
       "2       8.000000        8.000000           37.0           3.0  \n",
       "3       6.000000       20.000000           37.0           2.0  \n",
       "4      13.007526        6.000000           37.0          20.0  \n",
       "\n",
       "[5 rows x 40 columns]"
      ]
     },
     "execution_count": 288,
     "metadata": {},
     "output_type": "execute_result"
    }
   ],
   "source": [
    "tmp1.head()"
   ]
  },
  {
   "cell_type": "code",
   "execution_count": 289,
   "metadata": {
    "ExecuteTime": {
     "end_time": "2018-09-28T04:57:44.326934Z",
     "start_time": "2018-09-28T04:57:43.866838Z"
    },
    "collapsed": true
   },
   "outputs": [],
   "source": [
    "tmp2 = rf.get_feats_row_poly(tmp1, degree=2)\n",
    "tmp2.drop(f_40_num,axis=1,inplace=True)"
   ]
  },
  {
   "cell_type": "code",
   "execution_count": 292,
   "metadata": {
    "ExecuteTime": {
     "end_time": "2018-09-28T05:02:20.693816Z",
     "start_time": "2018-09-28T04:58:15.794815Z"
    }
   },
   "outputs": [
    {
     "name": "stdout",
     "output_type": "stream",
     "text": [
      "No labels provided. Feature importance based methods are not available.\n",
      "0 features with a single unique value.\n",
      "\n",
      "Compute Corr Matrix ...\n"
     ]
    },
    {
     "name": "stderr",
     "output_type": "stream",
     "text": [
      "correlated features: 100%|██████████| 481/481 [00:02<00:00, 235.82it/s]"
     ]
    },
    {
     "name": "stdout",
     "output_type": "stream",
     "text": [
      "481 features with a correlation magnitude greater than 0.90.\n",
      "\n"
     ]
    },
    {
     "name": "stderr",
     "output_type": "stream",
     "text": [
      "\n"
     ]
    }
   ],
   "source": [
    "fs = FeatureSelector(tmp2)\n",
    "fs.identify_single_unique()\n",
    "fs.identify_collinear(correlation_threshold=0.9)"
   ]
  },
  {
   "cell_type": "code",
   "execution_count": 293,
   "metadata": {
    "ExecuteTime": {
     "end_time": "2018-09-28T05:02:30.233144Z",
     "start_time": "2018-09-28T05:02:30.027291Z"
    },
    "collapsed": true
   },
   "outputs": [],
   "source": [
    "tmp2.drop(fs.ops['single_unique'],axis=1,inplace=True)\n",
    "tmp2.drop(fs.ops['collinear'],axis=1,inplace=True)"
   ]
  },
  {
   "cell_type": "markdown",
   "metadata": {},
   "source": [
    "#### 对于值特别大的列进行归一化"
   ]
  },
  {
   "cell_type": "code",
   "execution_count": 303,
   "metadata": {
    "ExecuteTime": {
     "end_time": "2018-09-28T05:14:11.589162Z",
     "start_time": "2018-09-28T05:14:11.287672Z"
    },
    "collapsed": true
   },
   "outputs": [],
   "source": [
    "for i in tmp2.columns:\n",
    "    if tmp2[i].max() > 100:\n",
    "        mms = MinMaxScaler(feature_range=(0,100))\n",
    "        tmp2[i] = mms.fit_transform(tmp2[[i]]).ravel()"
   ]
  },
  {
   "cell_type": "code",
   "execution_count": 307,
   "metadata": {
    "ExecuteTime": {
     "end_time": "2018-09-28T05:17:41.678666Z",
     "start_time": "2018-09-28T05:17:41.650091Z"
    }
   },
   "outputs": [
    {
     "data": {
      "text/html": [
       "<div>\n",
       "<style scoped>\n",
       "    .dataframe tbody tr th:only-of-type {\n",
       "        vertical-align: middle;\n",
       "    }\n",
       "\n",
       "    .dataframe tbody tr th {\n",
       "        vertical-align: top;\n",
       "    }\n",
       "\n",
       "    .dataframe thead th {\n",
       "        text-align: right;\n",
       "    }\n",
       "</style>\n",
       "<table border=\"1\" class=\"dataframe\">\n",
       "  <thead>\n",
       "    <tr style=\"text-align: right;\">\n",
       "      <th></th>\n",
       "      <th>x_1^2</th>\n",
       "      <th>x_1 x_2</th>\n",
       "      <th>x_1 x_40</th>\n",
       "      <th>x_1 x_41</th>\n",
       "      <th>x_1 x_42</th>\n",
       "      <th>x_1 x_43</th>\n",
       "      <th>x_1 x_44</th>\n",
       "      <th>x_1 x_45</th>\n",
       "      <th>x_1 x_46</th>\n",
       "      <th>x_1 x_48</th>\n",
       "      <th>...</th>\n",
       "      <th>x_95 f82_89</th>\n",
       "      <th>x_95 f38_1520_2530</th>\n",
       "      <th>x_95 f914_2124_3138</th>\n",
       "      <th>x_95 num_na_count</th>\n",
       "      <th>f82_89 f38_1520_2530</th>\n",
       "      <th>f82_89 f914_2124_3138</th>\n",
       "      <th>f82_89 num_na_count</th>\n",
       "      <th>f38_1520_2530^2</th>\n",
       "      <th>f914_2124_3138^2</th>\n",
       "      <th>cate_na_count^2</th>\n",
       "    </tr>\n",
       "  </thead>\n",
       "  <tbody>\n",
       "    <tr>\n",
       "      <th>0</th>\n",
       "      <td>0.125434</td>\n",
       "      <td>0.214267</td>\n",
       "      <td>3.187500</td>\n",
       "      <td>3.541667</td>\n",
       "      <td>2.479167</td>\n",
       "      <td>3.187500</td>\n",
       "      <td>2.479167</td>\n",
       "      <td>2.125000</td>\n",
       "      <td>0.708333</td>\n",
       "      <td>3.541667</td>\n",
       "      <td>...</td>\n",
       "      <td>3.489362</td>\n",
       "      <td>5.673495</td>\n",
       "      <td>1.955783</td>\n",
       "      <td>16.574468</td>\n",
       "      <td>5.829703</td>\n",
       "      <td>3.074036</td>\n",
       "      <td>7.219512</td>\n",
       "      <td>1.082853</td>\n",
       "      <td>0.096139</td>\n",
       "      <td>24.705882</td>\n",
       "    </tr>\n",
       "    <tr>\n",
       "      <th>1</th>\n",
       "      <td>0.015625</td>\n",
       "      <td>0.001507</td>\n",
       "      <td>1.000000</td>\n",
       "      <td>0.875000</td>\n",
       "      <td>0.875000</td>\n",
       "      <td>0.375000</td>\n",
       "      <td>1.250000</td>\n",
       "      <td>0.750000</td>\n",
       "      <td>0.375000</td>\n",
       "      <td>0.750000</td>\n",
       "      <td>...</td>\n",
       "      <td>2.978723</td>\n",
       "      <td>3.874582</td>\n",
       "      <td>1.335657</td>\n",
       "      <td>11.319149</td>\n",
       "      <td>7.287129</td>\n",
       "      <td>3.842545</td>\n",
       "      <td>9.073171</td>\n",
       "      <td>1.082853</td>\n",
       "      <td>0.096139</td>\n",
       "      <td>20.869565</td>\n",
       "    </tr>\n",
       "    <tr>\n",
       "      <th>2</th>\n",
       "      <td>0.111111</td>\n",
       "      <td>0.188660</td>\n",
       "      <td>0.333333</td>\n",
       "      <td>1.000000</td>\n",
       "      <td>2.000000</td>\n",
       "      <td>1.666667</td>\n",
       "      <td>2.333333</td>\n",
       "      <td>1.000000</td>\n",
       "      <td>0.666667</td>\n",
       "      <td>1.333333</td>\n",
       "      <td>...</td>\n",
       "      <td>7.074468</td>\n",
       "      <td>2.978723</td>\n",
       "      <td>1.028089</td>\n",
       "      <td>1.117021</td>\n",
       "      <td>8.515406</td>\n",
       "      <td>4.495711</td>\n",
       "      <td>1.195122</td>\n",
       "      <td>0.409600</td>\n",
       "      <td>0.036455</td>\n",
       "      <td>20.869565</td>\n",
       "    </tr>\n",
       "    <tr>\n",
       "      <th>3</th>\n",
       "      <td>0.043403</td>\n",
       "      <td>0.065877</td>\n",
       "      <td>0.416667</td>\n",
       "      <td>0.625000</td>\n",
       "      <td>1.458333</td>\n",
       "      <td>1.875000</td>\n",
       "      <td>1.458333</td>\n",
       "      <td>1.875000</td>\n",
       "      <td>0.416667</td>\n",
       "      <td>1.250000</td>\n",
       "      <td>...</td>\n",
       "      <td>2.500000</td>\n",
       "      <td>0.319149</td>\n",
       "      <td>0.367175</td>\n",
       "      <td>0.106383</td>\n",
       "      <td>15.798319</td>\n",
       "      <td>27.802425</td>\n",
       "      <td>2.097561</td>\n",
       "      <td>0.230400</td>\n",
       "      <td>0.227841</td>\n",
       "      <td>20.869565</td>\n",
       "    </tr>\n",
       "    <tr>\n",
       "      <th>4</th>\n",
       "      <td>0.043403</td>\n",
       "      <td>0.001679</td>\n",
       "      <td>1.875000</td>\n",
       "      <td>2.291667</td>\n",
       "      <td>2.083333</td>\n",
       "      <td>1.875000</td>\n",
       "      <td>2.083333</td>\n",
       "      <td>1.458333</td>\n",
       "      <td>0.625000</td>\n",
       "      <td>0.833333</td>\n",
       "      <td>...</td>\n",
       "      <td>0.765957</td>\n",
       "      <td>1.245401</td>\n",
       "      <td>0.198274</td>\n",
       "      <td>1.914894</td>\n",
       "      <td>5.829703</td>\n",
       "      <td>1.419698</td>\n",
       "      <td>3.707317</td>\n",
       "      <td>1.082853</td>\n",
       "      <td>0.020506</td>\n",
       "      <td>20.869565</td>\n",
       "    </tr>\n",
       "  </tbody>\n",
       "</table>\n",
       "<p>5 rows × 339 columns</p>\n",
       "</div>"
      ],
      "text/plain": [
       "      x_1^2   x_1 x_2  x_1 x_40  x_1 x_41  x_1 x_42  x_1 x_43  x_1 x_44  \\\n",
       "0  0.125434  0.214267  3.187500  3.541667  2.479167  3.187500  2.479167   \n",
       "1  0.015625  0.001507  1.000000  0.875000  0.875000  0.375000  1.250000   \n",
       "2  0.111111  0.188660  0.333333  1.000000  2.000000  1.666667  2.333333   \n",
       "3  0.043403  0.065877  0.416667  0.625000  1.458333  1.875000  1.458333   \n",
       "4  0.043403  0.001679  1.875000  2.291667  2.083333  1.875000  2.083333   \n",
       "\n",
       "   x_1 x_45  x_1 x_46  x_1 x_48       ...         x_95 f82_89  \\\n",
       "0  2.125000  0.708333  3.541667       ...            3.489362   \n",
       "1  0.750000  0.375000  0.750000       ...            2.978723   \n",
       "2  1.000000  0.666667  1.333333       ...            7.074468   \n",
       "3  1.875000  0.416667  1.250000       ...            2.500000   \n",
       "4  1.458333  0.625000  0.833333       ...            0.765957   \n",
       "\n",
       "   x_95 f38_1520_2530  x_95 f914_2124_3138  x_95 num_na_count  \\\n",
       "0            5.673495             1.955783          16.574468   \n",
       "1            3.874582             1.335657          11.319149   \n",
       "2            2.978723             1.028089           1.117021   \n",
       "3            0.319149             0.367175           0.106383   \n",
       "4            1.245401             0.198274           1.914894   \n",
       "\n",
       "   f82_89 f38_1520_2530  f82_89 f914_2124_3138  f82_89 num_na_count  \\\n",
       "0              5.829703               3.074036             7.219512   \n",
       "1              7.287129               3.842545             9.073171   \n",
       "2              8.515406               4.495711             1.195122   \n",
       "3             15.798319              27.802425             2.097561   \n",
       "4              5.829703               1.419698             3.707317   \n",
       "\n",
       "   f38_1520_2530^2  f914_2124_3138^2  cate_na_count^2  \n",
       "0         1.082853          0.096139        24.705882  \n",
       "1         1.082853          0.096139        20.869565  \n",
       "2         0.409600          0.036455        20.869565  \n",
       "3         0.230400          0.227841        20.869565  \n",
       "4         1.082853          0.020506        20.869565  \n",
       "\n",
       "[5 rows x 339 columns]"
      ]
     },
     "execution_count": 307,
     "metadata": {},
     "output_type": "execute_result"
    }
   ],
   "source": [
    "tmp2.head()"
   ]
  },
  {
   "cell_type": "code",
   "execution_count": 383,
   "metadata": {
    "ExecuteTime": {
     "end_time": "2018-09-28T06:18:55.609014Z",
     "start_time": "2018-09-28T06:18:55.384389Z"
    },
    "collapsed": true
   },
   "outputs": [],
   "source": [
    "# 先跑一下单poly的结果看下线上成绩\n",
    "tmp3 = pd.DataFrame(np.column_stack((data1.iloc[:,:135].values, tmp2.values)),columns=list(data1.iloc[:,:135].columns)+\\\n",
    "                    list(tmp2.columns))\n",
    "\n",
    "# 看下poly和组合特征结合看下线上成绩 0.74\n",
    "tmp3 = pd.DataFrame(np.column_stack((data1.values, tmp2.values)),columns=list(data1.columns)+\\\n",
    "                    list(tmp2.columns))"
   ]
  },
  {
   "cell_type": "code",
   "execution_count": 377,
   "metadata": {
    "ExecuteTime": {
     "end_time": "2018-09-28T06:16:55.980869Z",
     "start_time": "2018-09-28T06:16:55.837479Z"
    }
   },
   "outputs": [
    {
     "name": "stdout",
     "output_type": "stream",
     "text": [
      "No labels provided. Feature importance based methods are not available.\n"
     ]
    }
   ],
   "source": [
    "fs = FeatureSelector(tmp3.drop(['cust_id','y'], axis=1).copy())"
   ]
  },
  {
   "cell_type": "code",
   "execution_count": 378,
   "metadata": {
    "ExecuteTime": {
     "end_time": "2018-09-28T06:17:40.298241Z",
     "start_time": "2018-09-28T06:16:58.514637Z"
    }
   },
   "outputs": [
    {
     "name": "stdout",
     "output_type": "stream",
     "text": [
      "Compute Corr Matrix ...\n"
     ]
    },
    {
     "name": "stderr",
     "output_type": "stream",
     "text": [
      "correlated features: 100%|██████████| 123/123 [00:00<00:00, 265.50it/s]"
     ]
    },
    {
     "name": "stdout",
     "output_type": "stream",
     "text": [
      "123 features with a correlation magnitude greater than 0.95.\n",
      "\n"
     ]
    },
    {
     "name": "stderr",
     "output_type": "stream",
     "text": [
      "\n"
     ]
    }
   ],
   "source": [
    "fs.identify_collinear(correlation_threshold=0.95)"
   ]
  },
  {
   "cell_type": "code",
   "execution_count": 379,
   "metadata": {
    "ExecuteTime": {
     "end_time": "2018-09-28T06:17:47.151042Z",
     "start_time": "2018-09-28T06:17:47.089762Z"
    },
    "collapsed": true
   },
   "outputs": [],
   "source": [
    "tmp3.drop(fs.ops['collinear'],axis=1,inplace=True)"
   ]
  },
  {
   "cell_type": "markdown",
   "metadata": {},
   "source": [
    "# 4. 跑模型"
   ]
  },
  {
   "cell_type": "code",
   "execution_count": 1233,
   "metadata": {
    "ExecuteTime": {
     "end_time": "2018-10-01T09:30:06.010071Z",
     "start_time": "2018-10-01T09:30:05.998463Z"
    },
    "collapsed": true
   },
   "outputs": [],
   "source": [
    "params = {\n",
    "    'boosting': 'gbdt', # 'rf', 'dart', 'goss'\n",
    "    'application': 'binary', # 'application': 'multiclass', 'num_class': 3, # multiclass=softmax, multiclassova=ova  One-vs-All\n",
    "    'learning_rate': 0.01,\n",
    "    'max_depth': -1,\n",
    "    'num_leaves': 39, # 根据具体问题调整\n",
    "    \n",
    "    'max_bin':255,\n",
    "    'metric_freq':10,\n",
    "    \n",
    "    'min_split_gain': 0,\n",
    "    'min_child_weight': 40,\n",
    "\n",
    "    'bagging_fraction': 0.8,\n",
    "    'feature_fraction': 0.8,\n",
    "    'bagging_freq': 5,\n",
    "    'min_data_in_leaf': 1000,\n",
    "    'min_sum_hessian_in_leaf': 5.0,\n",
    "    'lambda_l1': 0,\n",
    "    'lambda_l2': 1,\n",
    "\n",
    "    'scale_pos_weight': 1,\n",
    "    'metric': 'auc',\n",
    "    'num_threads': 40,\n",
    "}"
   ]
  },
  {
   "cell_type": "code",
   "execution_count": 1234,
   "metadata": {
    "ExecuteTime": {
     "end_time": "2018-10-01T09:30:22.151275Z",
     "start_time": "2018-10-01T09:30:06.634407Z"
    }
   },
   "outputs": [
    {
     "name": "stdout",
     "output_type": "stream",
     "text": [
      "[50]\tcv_agg's auc: 0.793967 + 0.014468\n",
      "[100]\tcv_agg's auc: 0.801608 + 0.013705\n",
      "[150]\tcv_agg's auc: 0.807529 + 0.0150191\n",
      "[200]\tcv_agg's auc: 0.80997 + 0.0160065\n",
      "[250]\tcv_agg's auc: 0.811707 + 0.0166004\n",
      "[300]\tcv_agg's auc: 0.812631 + 0.0175325\n",
      "[350]\tcv_agg's auc: 0.813918 + 0.0174352\n",
      "[400]\tcv_agg's auc: 0.814753 + 0.017893\n",
      "[450]\tcv_agg's auc: 0.815071 + 0.0178146\n",
      "[500]\tcv_agg's auc: 0.815713 + 0.0181036\n",
      "[550]\tcv_agg's auc: 0.81582 + 0.017677\n",
      "[600]\tcv_agg's auc: 0.815977 + 0.0172478\n",
      "[650]\tcv_agg's auc: 0.816012 + 0.016816\n",
      "[700]\tcv_agg's auc: 0.815893 + 0.0162897\n"
     ]
    }
   ],
   "source": [
    "X = tmp3[tmp3.y>=0].drop(['cust_id','y'],axis=1)\n",
    "y = tmp3[tmp3.y>=0].y\n",
    "lgb_data = lgb.Dataset(X, y)\n",
    "res = lgb.cv(\n",
    "    params,\n",
    "    lgb_data,\n",
    "#     categorical_feature = cate_features2,\n",
    "    num_boost_round=2000,\n",
    "    nfold=5,\n",
    "    stratified=False,\n",
    "    metrics=None,\n",
    "    early_stopping_rounds=150,\n",
    "    verbose_eval=50,\n",
    "    show_stdv=True,\n",
    "    seed=0\n",
    ")"
   ]
  },
  {
   "cell_type": "code",
   "execution_count": 1235,
   "metadata": {
    "ExecuteTime": {
     "end_time": "2018-10-01T09:30:26.396599Z",
     "start_time": "2018-10-01T09:30:26.392895Z"
    }
   },
   "outputs": [
    {
     "name": "stdout",
     "output_type": "stream",
     "text": [
      "596\n"
     ]
    }
   ],
   "source": [
    "iter_best = len(res['auc-mean'])\n",
    "print(iter_best)"
   ]
  },
  {
   "cell_type": "code",
   "execution_count": 1236,
   "metadata": {
    "ExecuteTime": {
     "end_time": "2018-10-01T09:30:43.206468Z",
     "start_time": "2018-10-01T09:30:41.264822Z"
    },
    "collapsed": true
   },
   "outputs": [],
   "source": [
    "res_train = lgb.train(\n",
    "    params,\n",
    "    lgb_data,\n",
    "#     categorical_feature = cate_features2,\n",
    "    num_boost_round=iter_best\n",
    ")"
   ]
  },
  {
   "cell_type": "code",
   "execution_count": 1237,
   "metadata": {
    "ExecuteTime": {
     "end_time": "2018-10-01T09:30:49.309533Z",
     "start_time": "2018-10-01T09:30:49.026849Z"
    },
    "collapsed": true
   },
   "outputs": [],
   "source": [
    "pred = res_train.predict(tmp3[tmp3.y==-2].drop(['cust_id','y'],axis=1))"
   ]
  },
  {
   "cell_type": "code",
   "execution_count": 1061,
   "metadata": {
    "ExecuteTime": {
     "end_time": "2018-10-01T07:11:10.770512Z",
     "start_time": "2018-10-01T07:11:10.618141Z"
    },
    "collapsed": true
   },
   "outputs": [],
   "source": [
    "result = tmp3[tmp3.y==-2][['cust_id']]\n",
    "result['pred_prob'] = pred\n",
    "result['cust_id'] = result['cust_id'].astype(int)\n",
    "result.to_csv('output/baseline10.csv',index=False)"
   ]
  },
  {
   "cell_type": "markdown",
   "metadata": {},
   "source": [
    "# 预测测试集label然后再和训练集一起训练再预测测试集（一轮）"
   ]
  },
  {
   "cell_type": "code",
   "execution_count": 181,
   "metadata": {
    "ExecuteTime": {
     "end_time": "2018-09-27T13:48:03.228196Z",
     "start_time": "2018-09-27T13:48:03.224053Z"
    },
    "collapsed": true
   },
   "outputs": [],
   "source": [
    "X = a[a.y>=0].drop(['cust_id','y'],axis=1)\n",
    "y = a[a.y>=0].y\n",
    "lgb_data = lgb.Dataset(X, y)\n",
    "res = lgb.cv(\n",
    "    params,\n",
    "    lgb_data,\n",
    "    categorical_feature = cate_features2,\n",
    "    num_boost_round=2000,\n",
    "    nfold=5,\n",
    "    stratified=False,\n",
    "    metrics=None,\n",
    "    early_stopping_rounds=150,\n",
    "    verbose_eval=50,\n",
    "    show_stdv=True,\n",
    "    seed=0\n",
    ")"
   ]
  },
  {
   "cell_type": "code",
   "execution_count": 182,
   "metadata": {
    "ExecuteTime": {
     "end_time": "2018-09-27T13:48:11.463384Z",
     "start_time": "2018-09-27T13:48:11.459792Z"
    }
   },
   "outputs": [
    {
     "name": "stdout",
     "output_type": "stream",
     "text": [
      "1671\n"
     ]
    }
   ],
   "source": [
    "iter_best = len(res['auc-mean'])\n",
    "print(iter_best)"
   ]
  },
  {
   "cell_type": "code",
   "execution_count": 183,
   "metadata": {
    "ExecuteTime": {
     "end_time": "2018-09-27T13:48:39.993428Z",
     "start_time": "2018-09-27T13:48:32.413707Z"
    },
    "collapsed": true
   },
   "outputs": [],
   "source": [
    "res_train = lgb.train(\n",
    "    params,\n",
    "    lgb_data,\n",
    "    categorical_feature = cate_features2,\n",
    "    num_boost_round=1001\n",
    ")"
   ]
  },
  {
   "cell_type": "code",
   "execution_count": 184,
   "metadata": {
    "ExecuteTime": {
     "end_time": "2018-09-27T13:49:15.601942Z",
     "start_time": "2018-09-27T13:49:15.172995Z"
    },
    "collapsed": true
   },
   "outputs": [],
   "source": [
    "pred = res_train.predict(tmp3[tmp3.y==-2].drop(['cust_id','y'],axis=1))"
   ]
  },
  {
   "cell_type": "code",
   "execution_count": 811,
   "metadata": {
    "ExecuteTime": {
     "end_time": "2018-09-29T08:47:36.333484Z",
     "start_time": "2018-09-29T08:47:36.248067Z"
    },
    "collapsed": true
   },
   "outputs": [],
   "source": [
    "result = tmp3[tmp3.y==-2][['cust_id']]\n",
    "result['pred_prob'] = pred\n",
    "result['cust_id'] = result['cust_id'].astype(int)"
   ]
  },
  {
   "cell_type": "code",
   "execution_count": 1000,
   "metadata": {
    "ExecuteTime": {
     "end_time": "2018-09-30T10:09:37.706954Z",
     "start_time": "2018-09-30T10:09:37.650666Z"
    },
    "collapsed": true
   },
   "outputs": [],
   "source": [
    "result.to_csv('output/baseline9.csv',index=False)"
   ]
  },
  {
   "cell_type": "code",
   "execution_count": null,
   "metadata": {
    "collapsed": true
   },
   "outputs": [],
   "source": []
  },
  {
   "cell_type": "code",
   "execution_count": null,
   "metadata": {
    "collapsed": true
   },
   "outputs": [],
   "source": []
  },
  {
   "cell_type": "markdown",
   "metadata": {
    "collapsed": true
   },
   "source": [
    "# 将连续型的几个进行分箱 和 类别型一起onehot然后跑下LR看下效果"
   ]
  },
  {
   "cell_type": "code",
   "execution_count": 1029,
   "metadata": {
    "ExecuteTime": {
     "end_time": "2018-10-01T01:48:06.225221Z",
     "start_time": "2018-10-01T01:48:06.216324Z"
    },
    "collapsed": true
   },
   "outputs": [],
   "source": [
    "a = tmp3[['cust_id','cust_group','y']+['x_1','x_2','x_80','x_81','x_93','x_95']+list(tmp3.iloc[:,87:112].columns)].copy()"
   ]
  },
  {
   "cell_type": "code",
   "execution_count": 1030,
   "metadata": {
    "ExecuteTime": {
     "end_time": "2018-10-01T01:48:06.788217Z",
     "start_time": "2018-10-01T01:48:06.756292Z"
    }
   },
   "outputs": [
    {
     "data": {
      "text/html": [
       "<div>\n",
       "<style scoped>\n",
       "    .dataframe tbody tr th:only-of-type {\n",
       "        vertical-align: middle;\n",
       "    }\n",
       "\n",
       "    .dataframe tbody tr th {\n",
       "        vertical-align: top;\n",
       "    }\n",
       "\n",
       "    .dataframe thead th {\n",
       "        text-align: right;\n",
       "    }\n",
       "</style>\n",
       "<table border=\"1\" class=\"dataframe\">\n",
       "  <thead>\n",
       "    <tr style=\"text-align: right;\">\n",
       "      <th></th>\n",
       "      <th>cust_id</th>\n",
       "      <th>cust_group</th>\n",
       "      <th>y</th>\n",
       "      <th>x_1</th>\n",
       "      <th>x_2</th>\n",
       "      <th>x_80</th>\n",
       "      <th>x_81</th>\n",
       "      <th>x_93</th>\n",
       "      <th>x_95</th>\n",
       "      <th>x_96</th>\n",
       "      <th>...</th>\n",
       "      <th>x_148</th>\n",
       "      <th>x_149</th>\n",
       "      <th>x_150</th>\n",
       "      <th>x_151</th>\n",
       "      <th>x_152</th>\n",
       "      <th>x_153</th>\n",
       "      <th>x_154</th>\n",
       "      <th>x_155</th>\n",
       "      <th>x_156</th>\n",
       "      <th>x_157</th>\n",
       "    </tr>\n",
       "  </thead>\n",
       "  <tbody>\n",
       "    <tr>\n",
       "      <th>0</th>\n",
       "      <td>110000</td>\n",
       "      <td>3.0</td>\n",
       "      <td>0</td>\n",
       "      <td>0.354167</td>\n",
       "      <td>0.604988</td>\n",
       "      <td>0.865023</td>\n",
       "      <td>0.969147</td>\n",
       "      <td>0.208333</td>\n",
       "      <td>0.436170</td>\n",
       "      <td>2.0</td>\n",
       "      <td>...</td>\n",
       "      <td>1.0</td>\n",
       "      <td>1.0</td>\n",
       "      <td>1.0</td>\n",
       "      <td>1.0</td>\n",
       "      <td>1.0</td>\n",
       "      <td>1.0</td>\n",
       "      <td>1.0</td>\n",
       "      <td>1.0</td>\n",
       "      <td>3.0</td>\n",
       "      <td>-99.0</td>\n",
       "    </tr>\n",
       "    <tr>\n",
       "      <th>1</th>\n",
       "      <td>110001</td>\n",
       "      <td>3.0</td>\n",
       "      <td>0</td>\n",
       "      <td>0.125000</td>\n",
       "      <td>0.012058</td>\n",
       "      <td>0.820423</td>\n",
       "      <td>0.905626</td>\n",
       "      <td>0.270833</td>\n",
       "      <td>0.297872</td>\n",
       "      <td>1.0</td>\n",
       "      <td>...</td>\n",
       "      <td>1.0</td>\n",
       "      <td>1.0</td>\n",
       "      <td>1.0</td>\n",
       "      <td>1.0</td>\n",
       "      <td>1.0</td>\n",
       "      <td>1.0</td>\n",
       "      <td>1.0</td>\n",
       "      <td>1.0</td>\n",
       "      <td>2.0</td>\n",
       "      <td>2.0</td>\n",
       "    </tr>\n",
       "    <tr>\n",
       "      <th>2</th>\n",
       "      <td>110002</td>\n",
       "      <td>3.0</td>\n",
       "      <td>0</td>\n",
       "      <td>0.333333</td>\n",
       "      <td>0.565979</td>\n",
       "      <td>0.742958</td>\n",
       "      <td>0.867514</td>\n",
       "      <td>0.185821</td>\n",
       "      <td>0.372340</td>\n",
       "      <td>1.0</td>\n",
       "      <td>...</td>\n",
       "      <td>1.0</td>\n",
       "      <td>1.0</td>\n",
       "      <td>2.0</td>\n",
       "      <td>1.0</td>\n",
       "      <td>1.0</td>\n",
       "      <td>1.0</td>\n",
       "      <td>1.0</td>\n",
       "      <td>1.0</td>\n",
       "      <td>2.0</td>\n",
       "      <td>2.0</td>\n",
       "    </tr>\n",
       "    <tr>\n",
       "      <th>3</th>\n",
       "      <td>110003</td>\n",
       "      <td>3.0</td>\n",
       "      <td>0</td>\n",
       "      <td>0.208333</td>\n",
       "      <td>0.316209</td>\n",
       "      <td>0.761737</td>\n",
       "      <td>0.907441</td>\n",
       "      <td>0.010417</td>\n",
       "      <td>0.053191</td>\n",
       "      <td>1.0</td>\n",
       "      <td>...</td>\n",
       "      <td>2.0</td>\n",
       "      <td>1.0</td>\n",
       "      <td>1.0</td>\n",
       "      <td>1.0</td>\n",
       "      <td>1.0</td>\n",
       "      <td>1.0</td>\n",
       "      <td>1.0</td>\n",
       "      <td>1.0</td>\n",
       "      <td>2.0</td>\n",
       "      <td>4.0</td>\n",
       "    </tr>\n",
       "    <tr>\n",
       "      <th>4</th>\n",
       "      <td>110004</td>\n",
       "      <td>3.0</td>\n",
       "      <td>0</td>\n",
       "      <td>0.208333</td>\n",
       "      <td>0.008061</td>\n",
       "      <td>0.926056</td>\n",
       "      <td>0.865699</td>\n",
       "      <td>0.052083</td>\n",
       "      <td>0.095745</td>\n",
       "      <td>2.0</td>\n",
       "      <td>...</td>\n",
       "      <td>1.0</td>\n",
       "      <td>1.0</td>\n",
       "      <td>1.0</td>\n",
       "      <td>1.0</td>\n",
       "      <td>1.0</td>\n",
       "      <td>1.0</td>\n",
       "      <td>1.0</td>\n",
       "      <td>1.0</td>\n",
       "      <td>2.0</td>\n",
       "      <td>1.0</td>\n",
       "    </tr>\n",
       "  </tbody>\n",
       "</table>\n",
       "<p>5 rows × 34 columns</p>\n",
       "</div>"
      ],
      "text/plain": [
       "   cust_id  cust_group  y       x_1       x_2      x_80      x_81      x_93  \\\n",
       "0   110000         3.0  0  0.354167  0.604988  0.865023  0.969147  0.208333   \n",
       "1   110001         3.0  0  0.125000  0.012058  0.820423  0.905626  0.270833   \n",
       "2   110002         3.0  0  0.333333  0.565979  0.742958  0.867514  0.185821   \n",
       "3   110003         3.0  0  0.208333  0.316209  0.761737  0.907441  0.010417   \n",
       "4   110004         3.0  0  0.208333  0.008061  0.926056  0.865699  0.052083   \n",
       "\n",
       "       x_95  x_96  ...    x_148  x_149  x_150  x_151  x_152  x_153  x_154  \\\n",
       "0  0.436170   2.0  ...      1.0    1.0    1.0    1.0    1.0    1.0    1.0   \n",
       "1  0.297872   1.0  ...      1.0    1.0    1.0    1.0    1.0    1.0    1.0   \n",
       "2  0.372340   1.0  ...      1.0    1.0    2.0    1.0    1.0    1.0    1.0   \n",
       "3  0.053191   1.0  ...      2.0    1.0    1.0    1.0    1.0    1.0    1.0   \n",
       "4  0.095745   2.0  ...      1.0    1.0    1.0    1.0    1.0    1.0    1.0   \n",
       "\n",
       "   x_155  x_156  x_157  \n",
       "0    1.0    3.0  -99.0  \n",
       "1    1.0    2.0    2.0  \n",
       "2    1.0    2.0    2.0  \n",
       "3    1.0    2.0    4.0  \n",
       "4    1.0    2.0    1.0  \n",
       "\n",
       "[5 rows x 34 columns]"
      ]
     },
     "execution_count": 1030,
     "metadata": {},
     "output_type": "execute_result"
    }
   ],
   "source": [
    "a.head()"
   ]
  },
  {
   "cell_type": "code",
   "execution_count": 889,
   "metadata": {
    "ExecuteTime": {
     "end_time": "2018-09-30T02:47:11.813579Z",
     "start_time": "2018-09-30T02:47:11.808438Z"
    }
   },
   "outputs": [
    {
     "data": {
      "text/plain": [
       "(35000, 7)"
      ]
     },
     "execution_count": 889,
     "metadata": {},
     "output_type": "execute_result"
    }
   ],
   "source": [
    "a[['y','x_1','x_2','x_80','x_81','x_93','x_95']].shape"
   ]
  },
  {
   "cell_type": "code",
   "execution_count": 1031,
   "metadata": {
    "ExecuteTime": {
     "end_time": "2018-10-01T01:48:16.448559Z",
     "start_time": "2018-10-01T01:48:16.311218Z"
    }
   },
   "outputs": [
    {
     "name": "stderr",
     "output_type": "stream",
     "text": [
      "Binning ...: 100%|██████████| 6/6 [00:00<00:00, 382.70it/s]\n"
     ]
    }
   ],
   "source": [
    "bb = Binning(a[['y','x_1','x_2','x_80','x_81','x_93','x_95']].copy(),label='y')\n",
    "a_ = bb.binning()"
   ]
  },
  {
   "cell_type": "code",
   "execution_count": 1032,
   "metadata": {
    "ExecuteTime": {
     "end_time": "2018-10-01T01:48:18.521296Z",
     "start_time": "2018-10-01T01:48:18.507125Z"
    },
    "collapsed": true
   },
   "outputs": [],
   "source": [
    "a[['x_1','x_2','x_80','x_81','x_93','x_95']] = a_[['x_1','x_2','x_80','x_81','x_93','x_95']]"
   ]
  },
  {
   "cell_type": "code",
   "execution_count": 1033,
   "metadata": {
    "ExecuteTime": {
     "end_time": "2018-10-01T01:48:19.237011Z",
     "start_time": "2018-10-01T01:48:19.205921Z"
    }
   },
   "outputs": [
    {
     "data": {
      "text/html": [
       "<div>\n",
       "<style scoped>\n",
       "    .dataframe tbody tr th:only-of-type {\n",
       "        vertical-align: middle;\n",
       "    }\n",
       "\n",
       "    .dataframe tbody tr th {\n",
       "        vertical-align: top;\n",
       "    }\n",
       "\n",
       "    .dataframe thead th {\n",
       "        text-align: right;\n",
       "    }\n",
       "</style>\n",
       "<table border=\"1\" class=\"dataframe\">\n",
       "  <thead>\n",
       "    <tr style=\"text-align: right;\">\n",
       "      <th></th>\n",
       "      <th>cust_id</th>\n",
       "      <th>cust_group</th>\n",
       "      <th>y</th>\n",
       "      <th>x_1</th>\n",
       "      <th>x_2</th>\n",
       "      <th>x_80</th>\n",
       "      <th>x_81</th>\n",
       "      <th>x_93</th>\n",
       "      <th>x_95</th>\n",
       "      <th>x_96</th>\n",
       "      <th>...</th>\n",
       "      <th>x_148</th>\n",
       "      <th>x_149</th>\n",
       "      <th>x_150</th>\n",
       "      <th>x_151</th>\n",
       "      <th>x_152</th>\n",
       "      <th>x_153</th>\n",
       "      <th>x_154</th>\n",
       "      <th>x_155</th>\n",
       "      <th>x_156</th>\n",
       "      <th>x_157</th>\n",
       "    </tr>\n",
       "  </thead>\n",
       "  <tbody>\n",
       "    <tr>\n",
       "      <th>0</th>\n",
       "      <td>110000</td>\n",
       "      <td>3.0</td>\n",
       "      <td>0</td>\n",
       "      <td>3</td>\n",
       "      <td>17</td>\n",
       "      <td>18</td>\n",
       "      <td>14</td>\n",
       "      <td>1</td>\n",
       "      <td>13</td>\n",
       "      <td>2.0</td>\n",
       "      <td>...</td>\n",
       "      <td>1.0</td>\n",
       "      <td>1.0</td>\n",
       "      <td>1.0</td>\n",
       "      <td>1.0</td>\n",
       "      <td>1.0</td>\n",
       "      <td>1.0</td>\n",
       "      <td>1.0</td>\n",
       "      <td>1.0</td>\n",
       "      <td>3.0</td>\n",
       "      <td>-99.0</td>\n",
       "    </tr>\n",
       "    <tr>\n",
       "      <th>1</th>\n",
       "      <td>110001</td>\n",
       "      <td>3.0</td>\n",
       "      <td>0</td>\n",
       "      <td>1</td>\n",
       "      <td>0</td>\n",
       "      <td>3</td>\n",
       "      <td>11</td>\n",
       "      <td>4</td>\n",
       "      <td>6</td>\n",
       "      <td>1.0</td>\n",
       "      <td>...</td>\n",
       "      <td>1.0</td>\n",
       "      <td>1.0</td>\n",
       "      <td>1.0</td>\n",
       "      <td>1.0</td>\n",
       "      <td>1.0</td>\n",
       "      <td>1.0</td>\n",
       "      <td>1.0</td>\n",
       "      <td>1.0</td>\n",
       "      <td>2.0</td>\n",
       "      <td>2.0</td>\n",
       "    </tr>\n",
       "    <tr>\n",
       "      <th>2</th>\n",
       "      <td>110002</td>\n",
       "      <td>3.0</td>\n",
       "      <td>0</td>\n",
       "      <td>3</td>\n",
       "      <td>5</td>\n",
       "      <td>1</td>\n",
       "      <td>7</td>\n",
       "      <td>2</td>\n",
       "      <td>6</td>\n",
       "      <td>1.0</td>\n",
       "      <td>...</td>\n",
       "      <td>1.0</td>\n",
       "      <td>1.0</td>\n",
       "      <td>2.0</td>\n",
       "      <td>1.0</td>\n",
       "      <td>1.0</td>\n",
       "      <td>1.0</td>\n",
       "      <td>1.0</td>\n",
       "      <td>1.0</td>\n",
       "      <td>2.0</td>\n",
       "      <td>2.0</td>\n",
       "    </tr>\n",
       "    <tr>\n",
       "      <th>3</th>\n",
       "      <td>110003</td>\n",
       "      <td>3.0</td>\n",
       "      <td>0</td>\n",
       "      <td>1</td>\n",
       "      <td>8</td>\n",
       "      <td>13</td>\n",
       "      <td>3</td>\n",
       "      <td>7</td>\n",
       "      <td>17</td>\n",
       "      <td>1.0</td>\n",
       "      <td>...</td>\n",
       "      <td>2.0</td>\n",
       "      <td>1.0</td>\n",
       "      <td>1.0</td>\n",
       "      <td>1.0</td>\n",
       "      <td>1.0</td>\n",
       "      <td>1.0</td>\n",
       "      <td>1.0</td>\n",
       "      <td>1.0</td>\n",
       "      <td>2.0</td>\n",
       "      <td>4.0</td>\n",
       "    </tr>\n",
       "    <tr>\n",
       "      <th>4</th>\n",
       "      <td>110004</td>\n",
       "      <td>3.0</td>\n",
       "      <td>0</td>\n",
       "      <td>1</td>\n",
       "      <td>0</td>\n",
       "      <td>18</td>\n",
       "      <td>12</td>\n",
       "      <td>7</td>\n",
       "      <td>17</td>\n",
       "      <td>2.0</td>\n",
       "      <td>...</td>\n",
       "      <td>1.0</td>\n",
       "      <td>1.0</td>\n",
       "      <td>1.0</td>\n",
       "      <td>1.0</td>\n",
       "      <td>1.0</td>\n",
       "      <td>1.0</td>\n",
       "      <td>1.0</td>\n",
       "      <td>1.0</td>\n",
       "      <td>2.0</td>\n",
       "      <td>1.0</td>\n",
       "    </tr>\n",
       "  </tbody>\n",
       "</table>\n",
       "<p>5 rows × 34 columns</p>\n",
       "</div>"
      ],
      "text/plain": [
       "   cust_id  cust_group  y  x_1  x_2  x_80  x_81  x_93  x_95  x_96  ...    \\\n",
       "0   110000         3.0  0    3   17    18    14     1    13   2.0  ...     \n",
       "1   110001         3.0  0    1    0     3    11     4     6   1.0  ...     \n",
       "2   110002         3.0  0    3    5     1     7     2     6   1.0  ...     \n",
       "3   110003         3.0  0    1    8    13     3     7    17   1.0  ...     \n",
       "4   110004         3.0  0    1    0    18    12     7    17   2.0  ...     \n",
       "\n",
       "   x_148  x_149  x_150  x_151  x_152  x_153  x_154  x_155  x_156  x_157  \n",
       "0    1.0    1.0    1.0    1.0    1.0    1.0    1.0    1.0    3.0  -99.0  \n",
       "1    1.0    1.0    1.0    1.0    1.0    1.0    1.0    1.0    2.0    2.0  \n",
       "2    1.0    1.0    2.0    1.0    1.0    1.0    1.0    1.0    2.0    2.0  \n",
       "3    2.0    1.0    1.0    1.0    1.0    1.0    1.0    1.0    2.0    4.0  \n",
       "4    1.0    1.0    1.0    1.0    1.0    1.0    1.0    1.0    2.0    1.0  \n",
       "\n",
       "[5 rows x 34 columns]"
      ]
     },
     "execution_count": 1033,
     "metadata": {},
     "output_type": "execute_result"
    }
   ],
   "source": [
    "a.head()"
   ]
  },
  {
   "cell_type": "code",
   "execution_count": 1077,
   "metadata": {
    "ExecuteTime": {
     "end_time": "2018-10-01T07:29:19.541909Z",
     "start_time": "2018-10-01T07:29:19.530214Z"
    },
    "collapsed": true
   },
   "outputs": [],
   "source": [
    "def get_onehot(df:pd.DataFrame, ):\n",
    "    '''\n",
    "    传入dataframe\n",
    "    '''\n",
    "    first_col_name = df.columns[0]\n",
    "    tmp = pd.get_dummies(df[first_col_name])\n",
    "    tmp.columns = [first_col_name+'_oht_0_'+str(x) for x in range(tmp.shape[1])]\n",
    "    pd_sub = tmp.copy()\n",
    "    for idx, i in enumerate(df.columns):\n",
    "        if idx == 0:\n",
    "            continue\n",
    "        tmp = pd.get_dummies(df[i])\n",
    "        tmp.columns = [first_col_name+'_oht_{}_'.format(str(idx))+str(x) for x in range(tmp.shape[1])]\n",
    "        pd_sub = pd_sub.join(tmp.copy())\n",
    "#     return pd.DataFrame(np_sub,columns=colnms)\n",
    "    return pd_sub"
   ]
  },
  {
   "cell_type": "code",
   "execution_count": 1035,
   "metadata": {
    "ExecuteTime": {
     "end_time": "2018-10-01T01:48:31.176760Z",
     "start_time": "2018-10-01T01:48:31.040720Z"
    },
    "collapsed": true
   },
   "outputs": [],
   "source": [
    "a_ = a[['y']].join(get_onehot(a.drop(['cust_id','y'],axis=1)))"
   ]
  },
  {
   "cell_type": "code",
   "execution_count": 1036,
   "metadata": {
    "ExecuteTime": {
     "end_time": "2018-10-01T01:48:33.115593Z",
     "start_time": "2018-10-01T01:48:33.092084Z"
    }
   },
   "outputs": [
    {
     "data": {
      "text/html": [
       "<div>\n",
       "<style scoped>\n",
       "    .dataframe tbody tr th:only-of-type {\n",
       "        vertical-align: middle;\n",
       "    }\n",
       "\n",
       "    .dataframe tbody tr th {\n",
       "        vertical-align: top;\n",
       "    }\n",
       "\n",
       "    .dataframe thead th {\n",
       "        text-align: right;\n",
       "    }\n",
       "</style>\n",
       "<table border=\"1\" class=\"dataframe\">\n",
       "  <thead>\n",
       "    <tr style=\"text-align: right;\">\n",
       "      <th></th>\n",
       "      <th>y</th>\n",
       "      <th>cust_group_oht_0_0</th>\n",
       "      <th>cust_group_oht_0_1</th>\n",
       "      <th>cust_group_oht_0_2</th>\n",
       "      <th>cust_group_oht_1_0</th>\n",
       "      <th>cust_group_oht_1_1</th>\n",
       "      <th>cust_group_oht_1_2</th>\n",
       "      <th>cust_group_oht_1_3</th>\n",
       "      <th>cust_group_oht_1_4</th>\n",
       "      <th>cust_group_oht_1_5</th>\n",
       "      <th>...</th>\n",
       "      <th>cust_group_oht_30_1</th>\n",
       "      <th>cust_group_oht_30_2</th>\n",
       "      <th>cust_group_oht_30_3</th>\n",
       "      <th>cust_group_oht_31_0</th>\n",
       "      <th>cust_group_oht_31_1</th>\n",
       "      <th>cust_group_oht_31_2</th>\n",
       "      <th>cust_group_oht_31_3</th>\n",
       "      <th>cust_group_oht_31_4</th>\n",
       "      <th>cust_group_oht_31_5</th>\n",
       "      <th>cust_group_oht_31_6</th>\n",
       "    </tr>\n",
       "  </thead>\n",
       "  <tbody>\n",
       "    <tr>\n",
       "      <th>0</th>\n",
       "      <td>0</td>\n",
       "      <td>0</td>\n",
       "      <td>0</td>\n",
       "      <td>1</td>\n",
       "      <td>0</td>\n",
       "      <td>0</td>\n",
       "      <td>0</td>\n",
       "      <td>1</td>\n",
       "      <td>0</td>\n",
       "      <td>0</td>\n",
       "      <td>...</td>\n",
       "      <td>0</td>\n",
       "      <td>0</td>\n",
       "      <td>1</td>\n",
       "      <td>1</td>\n",
       "      <td>0</td>\n",
       "      <td>0</td>\n",
       "      <td>0</td>\n",
       "      <td>0</td>\n",
       "      <td>0</td>\n",
       "      <td>0</td>\n",
       "    </tr>\n",
       "    <tr>\n",
       "      <th>1</th>\n",
       "      <td>0</td>\n",
       "      <td>0</td>\n",
       "      <td>0</td>\n",
       "      <td>1</td>\n",
       "      <td>0</td>\n",
       "      <td>1</td>\n",
       "      <td>0</td>\n",
       "      <td>0</td>\n",
       "      <td>0</td>\n",
       "      <td>0</td>\n",
       "      <td>...</td>\n",
       "      <td>0</td>\n",
       "      <td>1</td>\n",
       "      <td>0</td>\n",
       "      <td>0</td>\n",
       "      <td>0</td>\n",
       "      <td>1</td>\n",
       "      <td>0</td>\n",
       "      <td>0</td>\n",
       "      <td>0</td>\n",
       "      <td>0</td>\n",
       "    </tr>\n",
       "    <tr>\n",
       "      <th>2</th>\n",
       "      <td>0</td>\n",
       "      <td>0</td>\n",
       "      <td>0</td>\n",
       "      <td>1</td>\n",
       "      <td>0</td>\n",
       "      <td>0</td>\n",
       "      <td>0</td>\n",
       "      <td>1</td>\n",
       "      <td>0</td>\n",
       "      <td>0</td>\n",
       "      <td>...</td>\n",
       "      <td>0</td>\n",
       "      <td>1</td>\n",
       "      <td>0</td>\n",
       "      <td>0</td>\n",
       "      <td>0</td>\n",
       "      <td>1</td>\n",
       "      <td>0</td>\n",
       "      <td>0</td>\n",
       "      <td>0</td>\n",
       "      <td>0</td>\n",
       "    </tr>\n",
       "    <tr>\n",
       "      <th>3</th>\n",
       "      <td>0</td>\n",
       "      <td>0</td>\n",
       "      <td>0</td>\n",
       "      <td>1</td>\n",
       "      <td>0</td>\n",
       "      <td>1</td>\n",
       "      <td>0</td>\n",
       "      <td>0</td>\n",
       "      <td>0</td>\n",
       "      <td>0</td>\n",
       "      <td>...</td>\n",
       "      <td>0</td>\n",
       "      <td>1</td>\n",
       "      <td>0</td>\n",
       "      <td>0</td>\n",
       "      <td>0</td>\n",
       "      <td>0</td>\n",
       "      <td>0</td>\n",
       "      <td>1</td>\n",
       "      <td>0</td>\n",
       "      <td>0</td>\n",
       "    </tr>\n",
       "    <tr>\n",
       "      <th>4</th>\n",
       "      <td>0</td>\n",
       "      <td>0</td>\n",
       "      <td>0</td>\n",
       "      <td>1</td>\n",
       "      <td>0</td>\n",
       "      <td>1</td>\n",
       "      <td>0</td>\n",
       "      <td>0</td>\n",
       "      <td>0</td>\n",
       "      <td>0</td>\n",
       "      <td>...</td>\n",
       "      <td>0</td>\n",
       "      <td>1</td>\n",
       "      <td>0</td>\n",
       "      <td>0</td>\n",
       "      <td>1</td>\n",
       "      <td>0</td>\n",
       "      <td>0</td>\n",
       "      <td>0</td>\n",
       "      <td>0</td>\n",
       "      <td>0</td>\n",
       "    </tr>\n",
       "  </tbody>\n",
       "</table>\n",
       "<p>5 rows × 218 columns</p>\n",
       "</div>"
      ],
      "text/plain": [
       "   y  cust_group_oht_0_0  cust_group_oht_0_1  cust_group_oht_0_2  \\\n",
       "0  0                   0                   0                   1   \n",
       "1  0                   0                   0                   1   \n",
       "2  0                   0                   0                   1   \n",
       "3  0                   0                   0                   1   \n",
       "4  0                   0                   0                   1   \n",
       "\n",
       "   cust_group_oht_1_0  cust_group_oht_1_1  cust_group_oht_1_2  \\\n",
       "0                   0                   0                   0   \n",
       "1                   0                   1                   0   \n",
       "2                   0                   0                   0   \n",
       "3                   0                   1                   0   \n",
       "4                   0                   1                   0   \n",
       "\n",
       "   cust_group_oht_1_3  cust_group_oht_1_4  cust_group_oht_1_5  \\\n",
       "0                   1                   0                   0   \n",
       "1                   0                   0                   0   \n",
       "2                   1                   0                   0   \n",
       "3                   0                   0                   0   \n",
       "4                   0                   0                   0   \n",
       "\n",
       "          ...           cust_group_oht_30_1  cust_group_oht_30_2  \\\n",
       "0         ...                             0                    0   \n",
       "1         ...                             0                    1   \n",
       "2         ...                             0                    1   \n",
       "3         ...                             0                    1   \n",
       "4         ...                             0                    1   \n",
       "\n",
       "   cust_group_oht_30_3  cust_group_oht_31_0  cust_group_oht_31_1  \\\n",
       "0                    1                    1                    0   \n",
       "1                    0                    0                    0   \n",
       "2                    0                    0                    0   \n",
       "3                    0                    0                    0   \n",
       "4                    0                    0                    1   \n",
       "\n",
       "   cust_group_oht_31_2  cust_group_oht_31_3  cust_group_oht_31_4  \\\n",
       "0                    0                    0                    0   \n",
       "1                    1                    0                    0   \n",
       "2                    1                    0                    0   \n",
       "3                    0                    0                    1   \n",
       "4                    0                    0                    0   \n",
       "\n",
       "   cust_group_oht_31_5  cust_group_oht_31_6  \n",
       "0                    0                    0  \n",
       "1                    0                    0  \n",
       "2                    0                    0  \n",
       "3                    0                    0  \n",
       "4                    0                    0  \n",
       "\n",
       "[5 rows x 218 columns]"
      ]
     },
     "execution_count": 1036,
     "metadata": {},
     "output_type": "execute_result"
    }
   ],
   "source": [
    "a_.head()"
   ]
  },
  {
   "cell_type": "code",
   "execution_count": null,
   "metadata": {
    "collapsed": true
   },
   "outputs": [],
   "source": []
  },
  {
   "cell_type": "markdown",
   "metadata": {},
   "source": [
    "# 用LR跑一下cv"
   ]
  },
  {
   "cell_type": "code",
   "execution_count": 1189,
   "metadata": {
    "ExecuteTime": {
     "end_time": "2018-10-01T09:04:27.764724Z",
     "start_time": "2018-10-01T09:04:27.761051Z"
    },
    "collapsed": true
   },
   "outputs": [],
   "source": [
    "from sklearn.linear_model import LogisticRegression\n",
    "from sklearn.model_selection import KFold\n",
    "from sklearn.metrics import roc_auc_score\n",
    "from sklearn.ensemble import AdaBoostClassifier, RandomForestClassifier, ExtraTreesClassifier"
   ]
  },
  {
   "cell_type": "code",
   "execution_count": 1223,
   "metadata": {
    "ExecuteTime": {
     "end_time": "2018-10-01T09:25:30.020607Z",
     "start_time": "2018-10-01T09:25:29.316355Z"
    }
   },
   "outputs": [
    {
     "name": "stdout",
     "output_type": "stream",
     "text": [
      "0.007518343929539999 0.2070993116570183\n"
     ]
    }
   ],
   "source": [
    "lr = LogisticRegression(C=3)\n",
    "# lr = ExtraTreesClassifier(n_estimators=100,min_samples_leaf=5,max_depth=5,n_jobs=30,min_samples_split=5)\n",
    "# lr = AdaBoostClassifier(n_estimators=100,learning_rate=0.07)\n",
    "# lr = RandomForestClassifier(n_estimators=100,max_depth=5,min_samples_leaf=5,n_jobs=30)\n",
    "X = tmp3[tmp3.y>=0].drop(['cust_id','y'],axis=1).copy(deep=True)\n",
    "y = tmp3[tmp3.y>=0].y.copy(deep=True)\n",
    "\n",
    "lr.fit(X, y)\n",
    "pred = lr.predict_proba(tmp3[tmp3.y==-2].drop(['cust_id','y'],axis=1))[:,1]\n",
    "print(pred.min(),pred.max())"
   ]
  },
  {
   "cell_type": "code",
   "execution_count": 1216,
   "metadata": {
    "ExecuteTime": {
     "end_time": "2018-10-01T09:19:30.417373Z",
     "start_time": "2018-10-01T09:19:26.811549Z"
    }
   },
   "outputs": [
    {
     "data": {
      "application/vnd.jupyter.widget-view+json": {
       "model_id": "016f2ee877794e31b51a2d861e4a1945"
      }
     },
     "metadata": {},
     "output_type": "display_data"
    },
    {
     "name": "stdout",
     "output_type": "stream",
     "text": [
      "0.7979728070371279\n",
      "0.7947339153201237\n",
      "0.8027311657903385\n",
      "0.8030353422609149\n",
      "0.8190997375813128\n"
     ]
    }
   ],
   "source": [
    "# kf = KFold(5, shuffle=True)\n",
    "# for train_idx, val_idx in tqdm_notebook(kf.split(X)):\n",
    "#     lr.fit(X.iloc[train_idx], y.iloc[train_idx])\n",
    "#     print(roc_auc_score(y.iloc[val_idx], lr.predict_proba(X.iloc[val_idx])[:,-1])) # lr, etc, ada, gbc"
   ]
  },
  {
   "cell_type": "code",
   "execution_count": 1224,
   "metadata": {
    "ExecuteTime": {
     "end_time": "2018-10-01T09:26:20.176937Z",
     "start_time": "2018-10-01T09:26:19.996006Z"
    },
    "collapsed": true
   },
   "outputs": [],
   "source": [
    "result = tmp3[tmp3.y==-2][['cust_id']]\n",
    "result['pred_prob'] = pred\n",
    "result.to_csv('model_res/res_etc2.csv',index=False)"
   ]
  },
  {
   "cell_type": "code",
   "execution_count": null,
   "metadata": {
    "collapsed": true
   },
   "outputs": [],
   "source": []
  }
 ],
 "metadata": {
  "kernelspec": {
   "display_name": "Python 3",
   "language": "python",
   "name": "python3"
  },
  "language_info": {
   "codemirror_mode": {
    "name": "ipython",
    "version": 3
   },
   "file_extension": ".py",
   "mimetype": "text/x-python",
   "name": "python",
   "nbconvert_exporter": "python",
   "pygments_lexer": "ipython3",
   "version": "3.6.1"
  }
 },
 "nbformat": 4,
 "nbformat_minor": 2
}
